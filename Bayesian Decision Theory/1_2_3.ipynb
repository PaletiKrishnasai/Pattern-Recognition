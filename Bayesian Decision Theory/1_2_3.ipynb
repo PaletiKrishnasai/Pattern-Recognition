{
 "cells": [
  {
   "cell_type": "markdown",
   "metadata": {},
   "source": [
    "# Assignment-2 "
   ]
  },
  {
   "cell_type": "code",
   "execution_count": 63,
   "metadata": {},
   "outputs": [],
   "source": [
    "import numpy as np\n",
    "from matplotlib import pyplot as plt \n",
    "from sympy import *"
   ]
  },
  {
   "cell_type": "code",
   "execution_count": 46,
   "metadata": {},
   "outputs": [],
   "source": [
    "def cov_inv(w):\n",
    "    w_cov=np.cov(w.transpose())\n",
    "    return w_cov,np.linalg.inv(w_cov)\n",
    "def get_mean(w):\n",
    "    return np.mean(w,axis=0)\n",
    "def get_X():\n",
    "    x,y=symbols('x y')\n",
    "    X=np.array([x,y]).transpose()\n",
    "    return x,y,X\n",
    "def get_equation(X,w_mean,w_cov,w_inv,pw):\n",
    "    c1=-0.5*(np.dot(np.subtract(X,w_mean).transpose(),np.dot(w_inv,np.subtract(X,w_mean))))\n",
    "    c2=-(w_cov.shape[0]/2)*np.log(2*np.pi)\n",
    "    c3=-0.5*np.log(np.linalg.det(w_cov))\n",
    "    c4=np.log(pw)\n",
    "    return c1+c2+c3+c4\n",
    "\n",
    "def move_sympyplot_to_axes(p, ax):\n",
    "    backend = p.backend(p)\n",
    "    backend.ax = ax\n",
    "    backend._process_series(backend.parent._series, ax, backend.parent)\n",
    "    backend.ax.spines['right'].set_color('none')\n",
    "    backend.ax.spines['bottom'].set_position('zero')\n",
    "    backend.ax.spines['top'].set_color('none')\n",
    "    plt.close(backend.fig)\n",
    "    \n",
    "def plot(w1,w2,g,x,y):\n",
    "    p1 = plot_implicit(g, (x, -20, 20), (y, -20, 20), show=False)\n",
    "    fig, ax = plt.subplots()\n",
    "    move_sympyplot_to_axes(p1, ax)\n",
    "    plt.setp(ax.yaxis.get_label(), 'rotation', 0)\n",
    "    plt.scatter([x[0] for x in w1 ],[x[1] for x in w1 ],label=\"Class W1\")\n",
    "    plt.scatter([x[0] for x in w2 ],[x[1] for x in w2 ],label=\"Class W2\")\n",
    "    plt.title(label='Decision Boundary', fontsize='20', pad='20')\n",
    "\n",
    "    plt.legend()\n",
    "    plt.show()\n"
   ]
  },
  {
   "cell_type": "code",
   "execution_count": 59,
   "metadata": {},
   "outputs": [],
   "source": [
    "def get_result(w1,w2,pw1,pw2):\n",
    "    w1_cov,w1_inv=cov_inv(w1)\n",
    "    w2_cov,w2_inv=cov_inv(w2)\n",
    "    w1_mean=get_mean(w1)\n",
    "    w2_mean=get_mean(w2)\n",
    "    x,y,X=get_X()\n",
    "    g1=get_equation(X,w1_mean,w1_cov,w1_inv,pw1)\n",
    "    g2=get_equation(X,w2_mean,w2_cov,w2_inv,pw2)\n",
    "    g=g1-g2\n",
    "    if((w1_cov==w2_cov).all() and (w1_cov[0][1]==0 and w1_cov[1][0]==0)):\n",
    "        print(\"Following are the covariance matrix of the given classes:\\n\\nClass W1 Covariance Matrix:\\n\",w1_cov,\"\\n\\nClass W2 Covariance Matrix:\\n\",w2_cov,\"\\n\\nCase_1 of Baye's Decision Boundary(Since Covariance Matrices are equal and of form 1):\\n\")\n",
    "    elif((w1_cov==w2_cov).all()):\n",
    "        print(\"Following are the covariance matrix of the given classes:\\n\\nClass W1 Covariance Matrix:\\n\",w1_cov,\"\\n\\nClass W2 Covariance Matrix:\\n\",w2_cov,\"\\n\\nCase_2 of Baye's Decision Boundary(Since Covariance Matrices are equal but not of form 1):\\n\")\n",
    "    else:\n",
    "        print(\"Following are the covariance matrix of the given classes:\\n\\nClass W1 Covariance Matrix:\\n\",w1_cov,\"\\n\\nClass W2 Covariance Matrix:\\n\",w2_cov,\"\\n\\nCase_3 of Baye's Decision Boundary(Since Covariance Matrices are not equal):\\n\")\n",
    "\n",
    "    plot(w1,w2,g,x,y)\n",
    "    \n",
    "    \n",
    "    \n",
    "    "
   ]
  },
  {
   "cell_type": "markdown",
   "metadata": {},
   "source": [
    "# Question 1\n",
    "Find and plot the decision boundary between class ω1 and ω2. Assume P(ω1) = P(ω2)\n",
    "\n",
    "ω1 = [1,6; 3,4; 3,8; 5,6]\n",
    "\n",
    "ω2 = [3,0; 1,-2; 3,-4; 5,-2]"
   ]
  },
  {
   "cell_type": "code",
   "execution_count": 60,
   "metadata": {},
   "outputs": [
    {
     "name": "stdout",
     "output_type": "stream",
     "text": [
      "Following are the covariance matrix of the given classes:\n",
      "\n",
      "Class W1 Covariance Matrix:\n",
      " [[2.66666667 0.        ]\n",
      " [0.         2.66666667]] \n",
      "\n",
      "Class W2 Covariance Matrix:\n",
      " [[2.66666667 0.        ]\n",
      " [0.         2.66666667]] \n",
      "\n",
      "Case_1 of Baye's Decision Boundary(Since Covariance Matrices are equal and of form 1):\n",
      "\n"
     ]
    },
    {
     "data": {
      "image/png": "[encoded data removed]",
      "text/plain": [
       "<Figure size 432x288 with 1 Axes>"
      ]
     },
     "metadata": {
      "needs_background": "light"
     },
     "output_type": "display_data"
    }
   ],
   "source": [
    "w1=np.array([[1,6],[3,4],[3,8],[5,6]])\n",
    "w2=np.array([[3,0],[1,-2],[3,-4],[5,-2]])\n",
    "pw1=0.5\n",
    "pw2=0.5\n",
    "get_result(w1,w2,pw1,pw2)"
   ]
  },
  {
   "cell_type": "markdown",
   "metadata": {},
   "source": [
    "# Question 2\n",
    "Find and plot the decision boundary between class ω1 and ω2. Assume P(ω1) = P(ω2)\n",
    "\n",
    "ω1 = [1,-1; 2,-5; 3,-6; 4,-10; 5,-12; 6,-15]\n",
    "\n",
    "ω2 = [-1,1; -2,5; -3,6; -4,10, -5,12; -6, 15]"
   ]
  },
  {
   "cell_type": "code",
   "execution_count": 61,
   "metadata": {},
   "outputs": [
    {
     "name": "stdout",
     "output_type": "stream",
     "text": [
      "Following are the covariance matrix of the given classes:\n",
      "\n",
      "Class W1 Covariance Matrix:\n",
      " [[ 3.5        -9.5       ]\n",
      " [-9.5        26.16666667]] \n",
      "\n",
      "Class W2 Covariance Matrix:\n",
      " [[ 3.5        -9.5       ]\n",
      " [-9.5        26.16666667]] \n",
      "\n",
      "Case_2 of Baye's Decision Boundary(Since Covariance Matrices are equal but not of form 1):\n",
      "\n"
     ]
    },
    {
     "data": {
      "image/png": "[encoded data removed]",
      "text/plain": [
       "<Figure size 432x288 with 1 Axes>"
      ]
     },
     "metadata": {
      "needs_background": "light"
     },
     "output_type": "display_data"
    }
   ],
   "source": [
    "w1=np.array([[1,-1], [2,-5], [3,-6], [4,-10], [5,-12], [6,-15]])\n",
    "w2=np.array([[-1,1], [-2,5], [-3,6], [-4,10], [-5,12], [-6,15]])\n",
    "pw1=0.3\n",
    "pw2=0.7\n",
    "get_result(w1,w2,pw1,pw2)"
   ]
  },
  {
   "cell_type": "markdown",
   "metadata": {},
   "source": [
    "# Question 3\n",
    "Find and plot the decision boundary between class ω1 and ω2. Assume P(ω1) = P(ω2)\n",
    "\n",
    "ω1 = [2,6; 3,4; 3,8; 4,6]\n",
    "\n",
    "ω2 = [3,0; 1,-2; 3,-4; 5,-2]"
   ]
  },
  {
   "cell_type": "code",
   "execution_count": 62,
   "metadata": {},
   "outputs": [
    {
     "name": "stdout",
     "output_type": "stream",
     "text": [
      "Following are the covariance matrix of the given classes:\n",
      "\n",
      "Class W1 Covariance Matrix:\n",
      " [[0.66666667 0.        ]\n",
      " [0.         2.66666667]] \n",
      "\n",
      "Class W2 Covariance Matrix:\n",
      " [[2.66666667 0.        ]\n",
      " [0.         2.66666667]] \n",
      "\n",
      "Case_3 of Baye's Decision Boundary(Since Covariance Matrices are not equal):\n",
      "\n"
     ]
    },
    {
     "data": {
      "image/png": "[encoded data removed]",
      "text/plain": [
       "<Figure size 432x288 with 1 Axes>"
      ]
     },
     "metadata": {
      "needs_background": "light"
     },
     "output_type": "display_data"
    }
   ],
   "source": [
    "w1=np.array([[2,6], [3,4], [3,8], [4,6]])\n",
    "w2=np.array([[3,0], [1,-2], [3,-4], [5,-2]])\n",
    "pw1=0.5\n",
    "pw2=0.5\n",
    "get_result(w1,w2,pw1,pw2)"
   ]
  }
 ],
 "metadata": {
  "kernelspec": {
   "display_name": "Python 3",
   "language": "python",
   "name": "python3"
  },
  "language_info": {
   "codemirror_mode": {
    "name": "ipython",
    "version": 3
   },
   "file_extension": ".py",
   "mimetype": "text/x-python",
   "name": "python",
   "nbconvert_exporter": "python",
   "pygments_lexer": "ipython3",
   "version": "3.8.3"
  }
 },
 "nbformat": 4,
 "nbformat_minor": 4
}
