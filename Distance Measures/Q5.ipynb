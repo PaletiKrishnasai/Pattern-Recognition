{
 "cells": [
  {
   "cell_type": "markdown",
   "metadata": {},
   "source": [
    "# ASSIGNMENT 1"
   ]
  },
  {
   "cell_type": "markdown",
   "metadata": {},
   "source": [
    "### Group number 4  - G4\n",
    "- CED18I039 Paleti Krishnasai\n",
    "- COE18B056 Thigulla Vamsi Krishna\n",
    "- COE18B065 Srinivasan R Sharma"
   ]
  },
  {
   "cell_type": "markdown",
   "metadata": {},
   "source": [
    "**Q5. Consider the following images. Obtain the histograms for each of the images. Using a suitable distance measure, find the distance between the query image and reference images.**\n"
   ]
  },
  {
   "cell_type": "code",
   "execution_count": 1,
   "metadata": {},
   "outputs": [],
   "source": [
    "import numpy as np\n",
    "import pandas as pd\n",
    "import matplotlib.pyplot as plt\n",
    "import math\n",
    "import cv2 as m1\n",
    "from sklearn import preprocessing"
   ]
  },
  {
   "cell_type": "code",
   "execution_count": 2,
   "metadata": {},
   "outputs": [],
   "source": [
    "def euclid(hist1,hist2):\n",
    "    sum=0\n",
    "    for i in range(len(hist1)):\n",
    "        sum+=pow((hist1[i]-hist2[i]),2)\n",
    "    return math.sqrt(sum)"
   ]
  },
  {
   "cell_type": "code",
   "execution_count": 3,
   "metadata": {},
   "outputs": [],
   "source": [
    "def bhattacharya(H1,H2):\n",
    "    H1_sqrt = [i**0.5 for i in H1]\n",
    "    H2_sqrt = [i**0.5 for i in H2]\n",
    "    Coeff = sum([H1_sqrt[i]*H2_sqrt[i] for i in  range(len(H1))])\n",
    "    BDis = math.log(Coeff)*-1\n",
    "    print(\"Bhattacharyya Distance =\",BDis,'nats')"
   ]
  },
  {
   "cell_type": "code",
   "execution_count": 4,
   "metadata": {},
   "outputs": [],
   "source": [
    "img1=m1.imread('Query_image.jpg',0)\n",
    "img2=m1.imread('Reference_image1.jpg',0)\n",
    "img3=m1.imread('Reference_image2.jpg',0)"
   ]
  },
  {
   "cell_type": "code",
   "execution_count": 5,
   "metadata": {},
   "outputs": [],
   "source": [
    "hist1=m1.calcHist([img1],[0],None,[256],[0,256])\n",
    "hist2=m1.calcHist([img2],[0],None,[256],[0,256])\n",
    "hist3=m1.calcHist([img3],[0],None,[256],[0,256])"
   ]
  },
  {
   "cell_type": "code",
   "execution_count": 6,
   "metadata": {},
   "outputs": [],
   "source": [
    "# Normalizing the histograms\n",
    "\n",
    "nhist1=hist1/hist1.sum()\n",
    "\n",
    "nhist2=hist2/hist2.sum()\n",
    "\n",
    "nhist3=hist3/hist3.sum()\n"
   ]
  },
  {
   "cell_type": "code",
   "execution_count": 7,
   "metadata": {},
   "outputs": [
    {
     "name": "stdout",
     "output_type": "stream",
     "text": [
      "0.037535119995868255\n"
     ]
    }
   ],
   "source": [
    "print(euclid(nhist1,nhist2))"
   ]
  },
  {
   "cell_type": "code",
   "execution_count": 8,
   "metadata": {},
   "outputs": [
    {
     "name": "stdout",
     "output_type": "stream",
     "text": [
      "0.5752152081660971\n"
     ]
    }
   ],
   "source": [
    "print(euclid(nhist1,nhist3))"
   ]
  },
  {
   "cell_type": "code",
   "execution_count": 9,
   "metadata": {},
   "outputs": [
    {
     "name": "stdout",
     "output_type": "stream",
     "text": [
      "Bhattacharyya Distance = 0.041768253552501855 nats\n"
     ]
    }
   ],
   "source": [
    "bhattacharya(nhist1,nhist2)"
   ]
  },
  {
   "cell_type": "code",
   "execution_count": 10,
   "metadata": {},
   "outputs": [
    {
     "name": "stdout",
     "output_type": "stream",
     "text": [
      "Bhattacharyya Distance = 0.5262733107305708 nats\n"
     ]
    }
   ],
   "source": [
    "bhattacharya(nhist1,nhist3)"
   ]
  },
  {
   "cell_type": "markdown",
   "metadata": {},
   "source": [
    "-----------------------------------------------------------------------------------------------------------------"
   ]
  },
  {
   "cell_type": "markdown",
   "metadata": {},
   "source": [
    "Both Euclidean and Bhattacharya Distance Measures show that Query_image and Reference_image1 have a **greater** similarity than Query_image and Reference_image2."
   ]
  },
  {
   "cell_type": "markdown",
   "metadata": {},
   "source": [
    "-----------------------------------------------------------------------------------------------------------------"
   ]
  }
 ],
 "metadata": {
  "kernelspec": {
   "display_name": "Python 3.8.5 64-bit",
   "language": "python",
   "name": "python38564bit518879e98f684ce09e2205607042506b"
  },
  "language_info": {
   "codemirror_mode": {
    "name": "ipython",
    "version": 3
   },
   "file_extension": ".py",
   "mimetype": "text/x-python",
   "name": "python",
   "nbconvert_exporter": "python",
   "pygments_lexer": "ipython3",
   "version": "3.8.5"
  }
 },
 "nbformat": 4,
 "nbformat_minor": 2
}
