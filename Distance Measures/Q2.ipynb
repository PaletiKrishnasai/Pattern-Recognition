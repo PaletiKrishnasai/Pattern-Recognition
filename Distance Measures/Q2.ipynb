{
 "cells": [
  {
   "cell_type": "markdown",
   "metadata": {},
   "source": [
    "# ASSIGNMENT 1"
   ]
  },
  {
   "cell_type": "markdown",
   "metadata": {},
   "source": [
    "### Group number 4  - G4\n",
    "- CED18I039 Paleti Krishnasai\n",
    "- COE18B056 Thigulla Vamsi Krishna\n",
    "- COE18B065 Srinivasan R Sharma"
   ]
  },
  {
   "cell_type": "markdown",
   "metadata": {},
   "source": [
    "#### Q2. Given (hq-ht)T = (0.5 0.5 -0.5 -0.25 -0.25) and\n",
    "\n",
    "##### A = [[1,0.135,0.195,0.137,0.157],[0.135,1,0.2,0.309,0.143],[0.195,0.2,1,0.157,0.122],[0.137,0.309,0.157,1,0.195],[0.157,0.143,0.122,0.195,1]]\n",
    "\n",
    "#### Find the quadratic form distance."
   ]
  },
  {
   "cell_type": "code",
   "execution_count": 2,
   "metadata": {},
   "outputs": [
    {
     "name": "stdout",
     "output_type": "stream",
     "text": [
      "0.6526249999999999\n"
     ]
    }
   ],
   "source": [
    "import numpy as np\n",
    "A = np.matrix([[1,0.135,0.195,0.137,0.157],[0.135,1,0.2,0.309,0.143],[0.195,0.2,1,0.157,0.122],[0.137,0.309,0.157,1,0.195],[0.157,0.143,0.122,0.195,1]])\n",
    "HdiffT = np.matrix([0.5,0.5,-0.5,-0.25,-0.25])\n",
    "Hdiff = HdiffT.transpose()\n",
    "\n",
    "tmp = np.matmul(HdiffT,A)\n",
    "Dist = np.matmul(tmp,Hdiff).item(0)\n",
    "\n",
    "print(Dist)"
   ]
  },
  {
   "cell_type": "markdown",
   "metadata": {},
   "source": [
    "-----------------------------------------------------------------------------------------------------------------"
   ]
  }
 ],
 "metadata": {
  "kernelspec": {
   "display_name": "Python 3.8.5 64-bit",
   "language": "python",
   "name": "python38564bit518879e98f684ce09e2205607042506b"
  },
  "language_info": {
   "codemirror_mode": {
    "name": "ipython",
    "version": 3
   },
   "file_extension": ".py",
   "mimetype": "text/x-python",
   "name": "python",
   "nbconvert_exporter": "python",
   "pygments_lexer": "ipython3",
   "version": "3.8.5"
  }
 },
 "nbformat": 4,
 "nbformat_minor": 2
}
