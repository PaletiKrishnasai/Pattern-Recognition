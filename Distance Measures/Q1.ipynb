{
 "cells": [
  {
   "cell_type": "markdown",
   "metadata": {},
   "source": [
    "# ASSIGNMENT 1"
   ]
  },
  {
   "cell_type": "markdown",
   "metadata": {},
   "source": [
    "### Group number 4  - G4\n",
    "- CED18I039 Paleti Krishnasai\n",
    "- COE18B056 Thigulla Vamsi Krishna\n",
    "- COE18B065 Srinivasan R Sharma"
   ]
  },
  {
   "cell_type": "markdown",
   "metadata": {},
   "source": [
    "##### Q1. Calculate the distance between the two normalized histograms H1 and H2 using each of the following methods:\n",
    "#### I. KL Distance\n",
    "#### II. Bhattacharyya Distance\n",
    "#### H1 = [ 0.24, 0.2, 0.16, 0.12, 0.08, 0.04, 0.12, 0.04]\n",
    "#### H2 = [ 0.22, 0.23, 0.16, 0.13, 0.11, 0.08, 0.05, 0.02]"
   ]
  },
  {
   "cell_type": "code",
   "execution_count": 1,
   "metadata": {},
   "outputs": [],
   "source": [
    "import math\n",
    "H1 = [ 0.24, 0.2, 0.16, 0.12, 0.08, 0.04, 0.12, 0.04]\n",
    "H2 = [ 0.22, 0.23, 0.16, 0.13, 0.11, 0.08, 0.05, 0.02]"
   ]
  },
  {
   "cell_type": "code",
   "execution_count": 2,
   "metadata": {},
   "outputs": [
    {
     "name": "stdout",
     "output_type": "stream",
     "text": [
      "KL distance D(H1,H2) =  0.09075297258487514\n",
      "KL distance D(H2,H1) =  0.08115679003357537\n"
     ]
    }
   ],
   "source": [
    "#KL DISTANCE\n",
    "#As we are directly given normalized probabilities we can directly apply KL distance formula\n",
    "Dis_Kl_12 = sum([H1[i]*math.log2(H1[i]/H2[i]) for i in range(len(H1))])\n",
    "print(\"KL distance D(H1,H2) = \",Dis_Kl_12)\n",
    "Dis_Kl_21 = sum([H2[i]*math.log2(H2[i]/H1[i]) for i in range(len(H1))])\n",
    "print(\"KL distance D(H2,H1) = \",Dis_Kl_21)"
   ]
  },
  {
   "cell_type": "code",
   "execution_count": 3,
   "metadata": {},
   "outputs": [
    {
     "name": "stdout",
     "output_type": "stream",
     "text": [
      "Bhattacharyya Distance D(H1,H2) = 0.014830056106628874 nats\n"
     ]
    }
   ],
   "source": [
    "# Bhattacharyya Distance\n",
    "H1_sqrt = [i**0.5 for i in H1]\n",
    "H2_sqrt = [i**0.5 for i in H2]\n",
    "Coeff = sum([H1_sqrt[i]*H2_sqrt[i] for i in  range(len(H1))])\n",
    "BDis = math.log(Coeff)*-1\n",
    "print(\"Bhattacharyya Distance D(H1,H2) =\",BDis,'nats')"
   ]
  },
  {
   "cell_type": "markdown",
   "metadata": {},
   "source": [
    "-----------------------------------------------------------------------------------------------------------------"
   ]
  }
 ],
 "metadata": {
  "kernelspec": {
   "display_name": "Python 3.8.5 64-bit",
   "language": "python",
   "name": "python38564bit518879e98f684ce09e2205607042506b"
  },
  "language_info": {
   "codemirror_mode": {
    "name": "ipython",
    "version": 3
   },
   "file_extension": ".py",
   "mimetype": "text/x-python",
   "name": "python",
   "nbconvert_exporter": "python",
   "pygments_lexer": "ipython3",
   "version": "3.8.5"
  }
 },
 "nbformat": 4,
 "nbformat_minor": 2
}
