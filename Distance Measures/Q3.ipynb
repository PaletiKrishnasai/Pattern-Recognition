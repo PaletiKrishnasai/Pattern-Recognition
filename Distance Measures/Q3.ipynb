{
 "cells": [
  {
   "cell_type": "markdown",
   "metadata": {},
   "source": [
    "# ASSIGNMENT 1"
   ]
  },
  {
   "cell_type": "markdown",
   "metadata": {},
   "source": [
    "### Group number 4  - G4\n",
    "- CED18I039 Paleti Krishnasai\n",
    "- COE18B056 Thigulla Vamsi Krishna\n",
    "- COE18B065 Srinivasan R Sharma"
   ]
  },
  {
   "cell_type": "markdown",
   "metadata": {},
   "source": [
    "**Q3. Compare two text files doc1.txt and doc2.txt using cosine distance.**\n",
    "\n",
    "**doc1.txt**\n",
    "\n",
    "MATLAB is a program for solving engineering and mathematical problems. The basic\n",
    "MATLAB objects are vectors and matrices, so you must be familiar with these before making extensive use of this program.\n",
    "\n",
    "**doc2.txt**\n",
    "\n",
    "MATLAB works with essentially one kind of object, a rectangular numerical matrix. Here is\n",
    "some basic information on using MATLAB matrix commands."
   ]
  },
  {
   "cell_type": "code",
   "execution_count": 1,
   "metadata": {},
   "outputs": [],
   "source": [
    "import math\n",
    "import numpy as np"
   ]
  },
  {
   "cell_type": "code",
   "execution_count": 2,
   "metadata": {},
   "outputs": [
    {
     "name": "stdout",
     "output_type": "stream",
     "text": [
      "201 145\n",
      "since len(X)>len(Y) fill remaining places in Y with 0's\n",
      "201 201\n"
     ]
    }
   ],
   "source": [
    "doc1 = \"MATLAB is a program for solving engineering and mathematical problems. The basic MATLAB objects are vectors and matrices, so you must be familiar with these before making extensive use of this program.\"\n",
    "doc2 = \"MATLAB works with essentially one kind of object, a rectangular numerical matrix. Here is some basic information on using MATLAB matrix commands.\"\n",
    "\n",
    "X = [ord(doc1[i]) for i in range(len(doc1))]\n",
    "Y = [ord(doc2[i]) for i in range(len(doc2))]\n",
    "\n",
    "print(len(X),len(Y))\n",
    "print(\"since len(X)>len(Y) fill remaining places in Y with 0's\")\n",
    "\n",
    "Y = Y + [0]*(len(X)-len(Y))\n",
    "print(len(X),len(Y))"
   ]
  },
  {
   "cell_type": "code",
   "execution_count": 3,
   "metadata": {},
   "outputs": [
    {
     "name": "stdout",
     "output_type": "stream",
     "text": [
      "Similarity = 0.7700986616554552\n",
      "Dissimilarity = 0.22990133834454485\n"
     ]
    }
   ],
   "source": [
    "Sim = sum([X[i]*Y[i] for i in range(len(X))])\n",
    "Xmag = math.sqrt(sum([i**2 for i in X]))\n",
    "Ymag = math.sqrt(sum([i**2 for i in Y]))\n",
    "\n",
    "Dist = Sim/(Xmag*Ymag)\n",
    "print(\"Similarity =\",Dist)\n",
    "print(\"Dissimilarity =\",1-Dist)"
   ]
  },
  {
   "cell_type": "markdown",
   "metadata": {},
   "source": [
    "-----------------------------------------------------------------------------------------------------------------"
   ]
  }
 ],
 "metadata": {
  "kernelspec": {
   "display_name": "Python 3.8.5 64-bit",
   "language": "python",
   "name": "python38564bit518879e98f684ce09e2205607042506b"
  },
  "language_info": {
   "codemirror_mode": {
    "name": "ipython",
    "version": 3
   },
   "file_extension": ".py",
   "mimetype": "text/x-python",
   "name": "python",
   "nbconvert_exporter": "python",
   "pygments_lexer": "ipython3",
   "version": "3.8.5"
  }
 },
 "nbformat": 4,
 "nbformat_minor": 2
}
